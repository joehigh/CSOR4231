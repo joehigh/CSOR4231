{
 "cells": [
  {
   "cell_type": "markdown",
   "id": "72c329b3",
   "metadata": {},
   "source": [
    "# HW2 Programming Part\n",
    "\n",
    "## Instructions\n",
    "In this Jupyter notebook, you will implement two of your algorithms from HW2t (HW2 theory part).\n",
    "\n",
    "#### On submission and grading:\n",
    "\n",
    "* Once you are done, please save this notebook as `hw2psolution.ipynb` and upload it to **Gradescope**.\n",
    "* Your code will be autograded (automatically graded) on Gradescope. The full results will be hidden until after the deadline.\n",
    "* You must follow our instructions **EXACTLY**. Otherwise, the autograder may fail, causing you to lose significant credit.\n",
    "* The autograder will run your code through our test cases and give you credit for returning the correct result. If your code has syntax errors or returns results that don't match our expected results, you will receive no credit.\n",
    "* As usual, you can submit as many times as you want. Only your last submission counts!\n",
    "\n",
    "#### Some things that you should **NOT** do: \n",
    "* Submit with the wrong file name\n",
    "* Rename our functions or change their parameters\n",
    "* Modify the global process or use global variables\n",
    "* Import modules other than the ones that we import for you\n",
    "* Add or remove cells\n",
    "\n",
    "When you submit on Gradescope, it will immediately check that your file name and function names/parameters are correct. If these checks fail, you **MUST** fix your assignment and resubmit. Otherwise, our autograder will fail.\n",
    "\n",
    "#### On academic honesty:\n",
    "* As usual, you may brainstorm with a small number of your classmates, but you must write up your code entirely on your own.\n",
    "* Academic dishonesty will result in receiving a 0 in this assignment and/or further disciplinary actions.\n",
    "* We will use software to detect similarity among submissions.\n",
    "\n",
    "If you have any questions, feel free to ask at OH or on Piazza!\n",
    "\n",
    "## Setup\n",
    "First, let's import some modules. Again, you may not import modules other than the ones we import for you."
   ]
  },
  {
   "cell_type": "code",
   "execution_count": null,
   "id": "88408af5",
   "metadata": {},
   "outputs": [],
   "source": [
    "# You may or may not use NetworkX for this assignment.\n",
    "# It's up to you to decide whether it is needed.\n",
    "import networkx\n",
    "\n",
    "# for type annotations\n",
    "from typing import List, Tuple"
   ]
  },
  {
   "cell_type": "markdown",
   "id": "60ae76c3",
   "metadata": {},
   "source": [
    "Next, let's make sure our versions are correct. You should be using\n",
    "* Python 3.7 or 3.8\n",
    "* networkx >= 2.4 (if you choose to use networkx; otherwise it doesn't matter)"
   ]
  },
  {
   "cell_type": "code",
   "execution_count": null,
   "id": "650980bb",
   "metadata": {},
   "outputs": [],
   "source": [
    "from platform import python_version\n",
    "\n",
    "print(\"Python version:\", python_version())\n",
    "print(\"NetworkX version:\", networkx.__version__)"
   ]
  },
  {
   "cell_type": "markdown",
   "id": "086f9289",
   "metadata": {},
   "source": [
    "If all has gone well, you are now ready to start this programming assignment!"
   ]
  },
  {
   "cell_type": "markdown",
   "id": "3387cf28",
   "metadata": {},
   "source": [
    "## Implement Q4 from HW2t\n",
    "Implement the `max_hotel_profit` function, which corresponds to Q4 from HW2t.\n",
    "\n",
    "Note that the arrays `m` and `p` are 0-indexed here, whereas they are 1-indexed in HW2t."
   ]
  },
  {
   "cell_type": "code",
   "execution_count": null,
   "id": "184debd9",
   "metadata": {},
   "outputs": [],
   "source": [
    "def max_hotel_profit(\n",
    "    n: int,        # number of possible hotel locations\n",
    "    k: int,        # minimum distance between any two hotels\n",
    "    m: List[int],  # possible locations (in sorted order)\n",
    "    p: List[int],  # profit at each location\n",
    ") -> int:\n",
    "    \"\"\"Returns the maximum profit by choosing hotel locations wisely.\"\"\"\n",
    "    \n",
    "    # TODO: implement this function\n",
    "\n",
    "    pass"
   ]
  },
  {
   "cell_type": "markdown",
   "id": "b8f1ce8d",
   "metadata": {},
   "source": [
    "Preliminary check:"
   ]
  },
  {
   "cell_type": "code",
   "execution_count": null,
   "id": "6811596b",
   "metadata": {},
   "outputs": [],
   "source": [
    "n = 4\n",
    "k = 5\n",
    "m = [2, 4, 5, 9]\n",
    "p = [4, 3, 2, 1]\n",
    "print(max_hotel_profit(n, k, m, p))  # should print Michael-TODO"
   ]
  },
  {
   "cell_type": "markdown",
   "id": "f2a5f092",
   "metadata": {},
   "source": [
    "## Implement Q5 from HW2t\n",
    "Implement the `max_pyramid_path` function, which corresponds to Q5 from HW2t."
   ]
  },
  {
   "cell_type": "code",
   "execution_count": null,
   "id": "2b77afc2",
   "metadata": {},
   "outputs": [],
   "source": [
    "def max_pyramid_path(\n",
    "    pyramid: List[List[int]]  # the number pyramid described in the problem\n",
    ") -> Tuple[int, List[int]]:\n",
    "    \"\"\"\n",
    "    Given a pyramid, finds the optimal answer and its corresponding path.\n",
    "    Returns a tuple (answer, path) where\n",
    "      - answer is the sum of the optimal route\n",
    "      - path is the optimal route\n",
    "    \"\"\"\n",
    "\n",
    "    # TODO: implement this function\n",
    "    \n",
    "    pass"
   ]
  },
  {
   "cell_type": "markdown",
   "id": "3cf5db61",
   "metadata": {},
   "source": [
    "Preliminary check:"
   ]
  },
  {
   "cell_type": "code",
   "execution_count": null,
   "id": "4da117c9",
   "metadata": {},
   "outputs": [],
   "source": [
    "pyramid = [\n",
    "    [6],\n",
    "    [3, 8],\n",
    "    [7, 1, 0],\n",
    "    [2, 6, 4, 4],\n",
    "]\n",
    "\n",
    "max_sum, path = max_pyramid_path(pyramid)\n",
    "\n",
    "print(max_sum)  # should print 22\n",
    "print(path)     # should print [6, 3, 7, 6]"
   ]
  }
 ],
 "metadata": {
  "kernelspec": {
   "display_name": "Python 3",
   "language": "python",
   "name": "python3"
  },
  "language_info": {
   "codemirror_mode": {
    "name": "ipython",
    "version": 3
   },
   "file_extension": ".py",
   "mimetype": "text/x-python",
   "name": "python",
   "nbconvert_exporter": "python",
   "pygments_lexer": "ipython3",
   "version": "3.7.10"
  }
 },
 "nbformat": 4,
 "nbformat_minor": 5
}
